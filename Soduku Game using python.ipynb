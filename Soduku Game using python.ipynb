{
 "cells": [
  {
   "cell_type": "markdown",
   "id": "e21f83dd",
   "metadata": {},
   "source": [
    "Steps For to create Soduku Game \n",
    "1. Installation of Pygame module\n",
    "2. Initializing sudoku game window and variables\n",
    "3. Function for highlighting selected cell\n",
    "4. Function to draw lines for making sudoku grid\n",
    "5. Function to fill value in the cell\n",
    "6. Function for raising error when wrong value is entered\n",
    "7. Function to check if the entered value is valid\n",
    "8. Function to solve sudoku game\n",
    "9. Function to show result\n",
    "10. Rest code"
   ]
  },
  {
   "cell_type": "code",
   "execution_count": 1,
   "id": "ea94dd24",
   "metadata": {},
   "outputs": [],
   "source": [
    "# 1. Installation of Pygame"
   ]
  },
  {
   "cell_type": "code",
   "execution_count": 2,
   "id": "f052f59b",
   "metadata": {},
   "outputs": [
    {
     "name": "stdout",
     "output_type": "stream",
     "text": [
      "Requirement already satisfied: pygame in c:\\users\\tjadh\\anaconda3\\lib\\site-packages (2.1.2)\n",
      "Note: you may need to restart the kernel to use updated packages.\n"
     ]
    }
   ],
   "source": [
    "pip install pygame"
   ]
  },
  {
   "cell_type": "code",
   "execution_count": 3,
   "id": "d1921050",
   "metadata": {},
   "outputs": [],
   "source": [
    "# 2. Initializing sudoku game window and variables"
   ]
  },
  {
   "cell_type": "markdown",
   "id": "968dea30",
   "metadata": {},
   "source": [
    "1. Pygame.display.set_mode: set_mode is a function inside the display module. It initializes the window and sets the size of the pygame window.\n",
    "2. pygame.display.set_caption: It displays the title mentioned in the parenthesis on the top of the window.\n",
    "3. defaultgrid: It is a nested list that will display a default 9×9 grid on the screen.\n",
    "4. font.SysFont: It creates a font object from the system fonts.\n",
    "5. diff : It is the size of a block."
   ]
  },
  {
   "cell_type": "code",
   "execution_count": 4,
   "id": "c520185a",
   "metadata": {},
   "outputs": [
    {
     "name": "stdout",
     "output_type": "stream",
     "text": [
      "pygame 2.1.2 (SDL 2.0.18, Python 3.9.12)\n",
      "Hello from the pygame community. https://www.pygame.org/contribute.html\n"
     ]
    }
   ],
   "source": [
    "import pygame\n",
    "pygame.font.init()\n",
    "Window = pygame.display.set_mode((500, 500))\n",
    "pygame.display.set_caption(\"SUDOKU GAME by Anil Jadhav\")\n",
    "x = 0\n",
    "z = 0\n",
    "diff = 500 / 9\n",
    "value= 0\n",
    "defaultgrid =[\n",
    "        [0, 0, 4, 0, 6, 0, 0, 0, 5],\n",
    "        [7, 8, 0, 4, 0, 0, 0, 2, 0],\n",
    "        [0, 0, 2, 6, 0, 1, 0, 7, 8],\n",
    "        [6, 1, 0, 0, 7, 5, 0, 0, 9],\n",
    "        [0, 0, 7, 5, 4, 0, 0, 6, 1],\n",
    "        [0, 0, 1, 7, 5, 0, 9, 3, 0],\n",
    "        [0, 7, 0, 3, 0, 0, 0, 1, 0],\n",
    "        [0, 4, 0, 2, 0, 6, 0, 0, 7],\n",
    "        [0, 2, 0, 0, 0, 7, 4, 0, 0],\n",
    "    ]\n",
    " \n",
    " \n",
    "font = pygame.font.SysFont(\"comicsans\", 25)\n",
    "font1 = pygame.font.SysFont(\"comicsans\", 25)"
   ]
  },
  {
   "cell_type": "code",
   "execution_count": 5,
   "id": "ea546dbb",
   "metadata": {},
   "outputs": [],
   "source": [
    "# 3. Function Highlighting cell user selected"
   ]
  },
  {
   "cell_type": "markdown",
   "id": "64b14d33",
   "metadata": {},
   "source": [
    "1. highlightbox: This function highlights the cell selected by the user.\n",
    "2. pygame.draw.line(): It is a function that draws a straight line"
   ]
  },
  {
   "cell_type": "code",
   "execution_count": 6,
   "id": "0d9d1378",
   "metadata": {},
   "outputs": [],
   "source": [
    "def cord(pos):\n",
    "    global x\n",
    "    x = pos[0]//diff\n",
    "    global z\n",
    "    z = pos[1]//diff\n",
    " \n",
    "def highlightbox():\n",
    "    for k in range(2):\n",
    "        pygame.draw.line(Window, (0, 0, 0), (x * diff-3, (z + k)*diff), (x * diff + diff + 3, (z + k)*diff), 7)\n",
    "        pygame.draw.line(Window, (0, 0, 0), ( (x + k)* diff, z * diff ), ((x + k) * diff, z * diff + diff), 7) "
   ]
  },
  {
   "cell_type": "code",
   "execution_count": 7,
   "id": "8288144d",
   "metadata": {},
   "outputs": [],
   "source": [
    "# 4. Function to draw lines for soduku 'grid'"
   ]
  },
  {
   "cell_type": "markdown",
   "id": "f5601efd",
   "metadata": {},
   "source": [
    "1. pygame.draw.rect(): It is a function that draws a rectangle.\n",
    "2. font.render(): It renders the font.\n",
    "3. Window.blit(): It copies the content of one surface onto another surface."
   ]
  },
  {
   "cell_type": "code",
   "execution_count": 8,
   "id": "fc2d5c0c",
   "metadata": {},
   "outputs": [],
   "source": [
    "def drawlines():\n",
    "    for i in range (9):\n",
    "        for j in range (9):\n",
    "            if defaultgrid[i][j]!= 0:\n",
    "                pygame.draw.rect(Window, (255, 255, 0), (i * diff, j * diff, diff + 1, diff + 1))\n",
    "                text1 = font.render(str(defaultgrid[i][j]), 1, (0, 0, 0))\n",
    "                Window.blit(text1, (i * diff + 15, j * diff + 15))         \n",
    "    for l in range(10):\n",
    "        if l % 3 == 0 :\n",
    "            thick = 7\n",
    "        else:\n",
    "            thick = 1\n",
    "        pygame.draw.line(Window, (0, 0, 0), (0, l * diff), (500, l * diff), thick)\n",
    "        pygame.draw.line(Window, (0, 0, 0), (l * diff, 0), (l * diff, 500), thick)"
   ]
  },
  {
   "cell_type": "code",
   "execution_count": 9,
   "id": "75b005b0",
   "metadata": {},
   "outputs": [],
   "source": [
    "# 5. Function to fill value in the cell"
   ]
  },
  {
   "cell_type": "markdown",
   "id": "be18b6e2",
   "metadata": {},
   "source": [
    "1. fillvalue(): This function fills the value entered by the user in the cell.\n",
    "2. text1: It stores the digit entered by the user."
   ]
  },
  {
   "cell_type": "code",
   "execution_count": 10,
   "id": "d649070e",
   "metadata": {},
   "outputs": [],
   "source": [
    "def fillvalue(value):\n",
    "    text1 = font.render(str(value), 1, (0, 0, 0))\n",
    "    Window.blit(text1, (x * diff + 15, z * diff + 15))   "
   ]
  },
  {
   "cell_type": "code",
   "execution_count": 11,
   "id": "c09e7913",
   "metadata": {},
   "outputs": [],
   "source": [
    "# 6. Function for raising error when wrong value is entered"
   ]
  },
  {
   "cell_type": "markdown",
   "id": "68453ff0",
   "metadata": {},
   "source": [
    "a. raiseerror() and raiseerror1(): These functions will generate error if the wrong value is entered."
   ]
  },
  {
   "cell_type": "code",
   "execution_count": 12,
   "id": "50e9620a",
   "metadata": {},
   "outputs": [],
   "source": [
    "def raiseerror():\n",
    "    text1 = font.render(\"wrong!\", 1, (0, 0, 0))\n",
    "    Window.blit(text1, (20, 570)) \n",
    "def raiseerror1():\n",
    "    text1 = font.render(\"wrong ! enter a valid key for the game\", 1, (0, 0, 0))\n",
    "    Window.blit(text1, (20, 570)) "
   ]
  },
  {
   "cell_type": "code",
   "execution_count": 13,
   "id": "3f6b1eb3",
   "metadata": {},
   "outputs": [],
   "source": [
    "# 7. Function to check if the entered value is valid"
   ]
  },
  {
   "cell_type": "markdown",
   "id": "836a9943",
   "metadata": {},
   "source": [
    "1. validvalue(): This function checks whether the value entered by the user is valid or not.\n",
    "2. range(): The sequence of numbers starting from 0 is returned by range() and increments the number every time by 1 and stops before the given number"
   ]
  },
  {
   "cell_type": "code",
   "execution_count": 14,
   "id": "b43421eb",
   "metadata": {},
   "outputs": [],
   "source": [
    "def validvalue(m, k, l, value):\n",
    "    for it in range(9):\n",
    "        if m[k][it]== value:\n",
    "            return False\n",
    "        if m[it][l]== value:\n",
    "            return False\n",
    "    it = k//3\n",
    "    jt = l//3\n",
    "    for k in range(it * 3, it * 3 + 3):\n",
    "        for l in range (jt * 3, jt * 3 + 3):\n",
    "            if m[k][l]== value:\n",
    "                return False\n",
    "    return True"
   ]
  },
  {
   "cell_type": "code",
   "execution_count": 15,
   "id": "682ff080",
   "metadata": {},
   "outputs": [],
   "source": [
    "# 8. Function to solve sudoku game"
   ]
  },
  {
   "cell_type": "markdown",
   "id": "7e21e9ca",
   "metadata": {},
   "source": [
    "1. solvegame(): This function helps in solving the sudoku game.\n",
    "2. pygame.event.pump(): This function puts every event in an event queue.\n",
    "3. pygame.display.update(): This function helps to update a portion of the screen.\n",
    "4. pygame.time.delay(): This function will pause for a given number of milliseconds on the basis of CPU clock."
   ]
  },
  {
   "cell_type": "code",
   "execution_count": 16,
   "id": "284f2d1a",
   "metadata": {},
   "outputs": [],
   "source": [
    "def solvegame(defaultgrid, i, j):\n",
    "     \n",
    "    while defaultgrid[i][j]!= 0:\n",
    "        if i<8:\n",
    "            i+= 1\n",
    "        elif i == 8 and j<8:\n",
    "            i = 0\n",
    "            j+= 1\n",
    "        elif i == 8 and j == 8:\n",
    "            return True\n",
    "    pygame.event.pump()   \n",
    "    for it in range(1, 10):\n",
    "        if validvalue(defaultgrid, i, j, it)== True:\n",
    "            defaultgrid[i][j]= it\n",
    "            global x, z\n",
    "            x = i\n",
    "            z = j\n",
    "            Window.fill((255, 255, 255))\n",
    "            drawlines()\n",
    "            highlightbox()\n",
    "            pygame.display.update()\n",
    "            pygame.time.delay(20)\n",
    "            if solvegame(defaultgrid, i, j)== 1:\n",
    "                return True\n",
    "            else:\n",
    "                defaultgrid[i][j]= 0\n",
    "            Window.fill((0,0,0))\n",
    "         \n",
    "            drawlines()\n",
    "            highlightbox()\n",
    "            pygame.display.update()\n",
    "            pygame.time.delay(50)   \n",
    "    return False "
   ]
  },
  {
   "cell_type": "code",
   "execution_count": 17,
   "id": "fa781a47",
   "metadata": {},
   "outputs": [],
   "source": [
    "# 9. Function to show result"
   ]
  },
  {
   "cell_type": "markdown",
   "id": "efb81b54",
   "metadata": {},
   "source": [
    "1. gameresult(): This function displays the result after completing the game.\n",
    "2. flag: It is used for running the window."
   ]
  },
  {
   "cell_type": "code",
   "execution_count": 18,
   "id": "3e9e682a",
   "metadata": {},
   "outputs": [],
   "source": [
    "def gameresult():\n",
    "    text1 = font.render(\"game finished\", 1, (0, 0, 0))\n",
    "    Window.blit(text1, (20, 570)) \n",
    "flag=True  \n",
    "flag1 = 0\n",
    "flag2 = 0\n",
    "rs = 0\n",
    "error = 0"
   ]
  },
  {
   "cell_type": "code",
   "execution_count": 19,
   "id": "d5ede333",
   "metadata": {},
   "outputs": [],
   "source": [
    "# 10. Reset Code"
   ]
  },
  {
   "cell_type": "code",
   "execution_count": null,
   "id": "bffae190",
   "metadata": {},
   "outputs": [],
   "source": []
  },
  {
   "cell_type": "code",
   "execution_count": 20,
   "id": "87508f11",
   "metadata": {},
   "outputs": [],
   "source": [
    "while flag:\n",
    "    Window.fill((255,182,193))\n",
    "    for event in pygame.event.get():\n",
    "        if event.type == pygame.QUIT:\n",
    "            flag = False   \n",
    "        if event.type == pygame.MOUSEBUTTONDOWN:\n",
    "            flag1 = 1\n",
    "            pos = pygame.mouse.get_pos()\n",
    "            cord(pos)\n",
    "        if event.type == pygame.KEYDOWN:\n",
    "            if event.key == pygame.K_LEFT:\n",
    "                x-= 1\n",
    "                flag1 = 1\n",
    "            if event.key == pygame.K_RIGHT:\n",
    "                x+= 1\n",
    "                flag1 = 1\n",
    "            if event.key == pygame.K_UP:\n",
    "                z-= 1\n",
    "                flag1 = 1\n",
    "            if event.key == pygame.K_DOWN:\n",
    "                z+= 1\n",
    "                flag1 = 1   \n",
    "            if event.key == pygame.K_1:\n",
    "                value = 1\n",
    "            if event.key == pygame.K_2:\n",
    "                value = 2   \n",
    "            if event.key == pygame.K_3:\n",
    "                value = 3\n",
    "            if event.key == pygame.K_4:\n",
    "                value = 4\n",
    "            if event.key == pygame.K_5:\n",
    "                value = 5\n",
    "            if event.key == pygame.K_6:\n",
    "                value = 6\n",
    "            if event.key == pygame.K_7:\n",
    "                value = 7\n",
    "            if event.key == pygame.K_8:\n",
    "                value = 8\n",
    "            if event.key == pygame.K_9:\n",
    "                value = 9 \n",
    "            if event.key == pygame.K_RETURN:\n",
    "                flag2 = 1  \n",
    "            if event.key == pygame.K_r:\n",
    "                rs = 0\n",
    "                error = 0\n",
    "                flag2 = 0\n",
    "                defaultgrid=[\n",
    "                [0, 0, 0, 0, 0, 0, 0, 0, 0],\n",
    "                [0, 0, 0, 0, 0, 0, 0, 0, 0],\n",
    "                [0, 0, 0, 0, 0, 0, 0, 0, 0],\n",
    "                [0, 0, 0, 0, 0, 0, 0, 0, 0],\n",
    "                [0, 0, 0, 0, 0, 0, 0, 0, 0],\n",
    "                [0, 0, 0, 0, 0, 0, 0, 0, 0],\n",
    "                [0, 0, 0, 0, 0, 0, 0, 0, 0],\n",
    "                [0, 0, 0, 0, 0, 0, 0, 0, 0],\n",
    "                [0, 0, 0, 0, 0, 0, 0, 0, 0]\n",
    "                ]\n",
    "            if event.key == pygame.K_d:\n",
    "                rs = 0\n",
    "                error = 0\n",
    "                flag2 = 0\n",
    "                defaultgrid  =[\n",
    "                    [0, 0, 4, 0, 6, 0, 0, 0, 5],\n",
    "                    [7, 8, 0, 4, 0, 0, 0, 2, 0],\n",
    "                    [0, 0, 2, 6, 0, 1, 0, 7, 8],\n",
    "                    [6, 1, 0, 0, 7, 5, 0, 0, 9],\n",
    "                    [0, 0, 7, 5, 4, 0, 0, 6, 1],\n",
    "                    [0, 0, 1, 7, 5, 0, 9, 3, 0],\n",
    "                    [0, 7, 0, 3, 0, 0, 0, 1, 0],\n",
    "                    [0, 4, 0, 2, 0, 6, 0, 0, 7],\n",
    "                    [0, 2, 0, 0, 0, 7, 4, 0, 0],\n",
    "                ]\n",
    "    if flag2 == 1:\n",
    "        if solvegame(defaultgrid , 0, 0)== False:\n",
    "            error = 1\n",
    "        else:\n",
    "            rs = 1\n",
    "        flag2 = 0   \n",
    "    if value != 0:           \n",
    "        fillvalue(value)\n",
    "        if validvalue(defaultgrid , int(x), int(z), value)== True:\n",
    "            defaultgrid[int(x)][int(z)]= value\n",
    "            flag1 = 0\n",
    "        else:\n",
    "            defaultgrid[int(x)][int(z)]= 0\n",
    "            raiseerror1()  \n",
    "        value = 0   \n",
    "       \n",
    "    if error == 1:\n",
    "        raiseerror() \n",
    "    if rs == 1:\n",
    "        gameresult()       \n",
    "    drawlines() \n",
    "    if flag1 == 1:\n",
    "        highlightbox()      \n",
    "    pygame.display.update() \n",
    "   \n",
    "pygame.quit()    "
   ]
  },
  {
   "cell_type": "code",
   "execution_count": null,
   "id": "ec45d02e",
   "metadata": {},
   "outputs": [],
   "source": []
  }
 ],
 "metadata": {
  "kernelspec": {
   "display_name": "Python 3 (ipykernel)",
   "language": "python",
   "name": "python3"
  },
  "language_info": {
   "codemirror_mode": {
    "name": "ipython",
    "version": 3
   },
   "file_extension": ".py",
   "mimetype": "text/x-python",
   "name": "python",
   "nbconvert_exporter": "python",
   "pygments_lexer": "ipython3",
   "version": "3.9.12"
  }
 },
 "nbformat": 4,
 "nbformat_minor": 5
}
